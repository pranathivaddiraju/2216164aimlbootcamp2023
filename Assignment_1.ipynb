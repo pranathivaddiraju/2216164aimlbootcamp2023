{
  "nbformat": 4,
  "nbformat_minor": 0,
  "metadata": {
    "colab": {
      "provenance": [],
      "include_colab_link": true
    },
    "kernelspec": {
      "name": "python3",
      "display_name": "Python 3"
    },
    "language_info": {
      "name": "python"
    }
  },
  "cells": [
    {
      "cell_type": "markdown",
      "metadata": {
        "id": "view-in-github",
        "colab_type": "text"
      },
      "source": [
        "<a href=\"https://colab.research.google.com/github/pranathivaddiraju/2216164aimlbootcamp2023/blob/main/Assignment_1.ipynb\" target=\"_parent\"><img src=\"https://colab.research.google.com/assets/colab-badge.svg\" alt=\"Open In Colab\"/></a>"
      ]
    },
    {
      "cell_type": "markdown",
      "source": [
        "#####1. Methods of strings"
      ],
      "metadata": {
        "id": "alpqY7PZUW1v"
      }
    },
    {
      "cell_type": "code",
      "execution_count": 1,
      "metadata": {
        "id": "7SjulzzJ3xqp",
        "colab": {
          "base_uri": "https://localhost:8080/"
        },
        "outputId": "3c476790-7666-4169-9756-5dbc79bb4e06"
      },
      "outputs": [
        {
          "output_type": "stream",
          "name": "stdout",
          "text": [
            "Pranathi vaddiraju\n",
            "4\n",
            "False\n",
            "11\n",
            "Pranathi Vaddiraju\n",
            "2\n",
            "False\n"
          ]
        }
      ],
      "source": [
        "name=\"pranathi vaddiraju\"\n",
        "print(name.capitalize())\n",
        "print(name.count('a'))\n",
        "print(name.endswith('e'))\n",
        "print(name.find('d'))\n",
        "print(name.title())\n",
        "print(name.index('a',2,10))\n",
        "print(name.isalpha())"
      ]
    },
    {
      "cell_type": "markdown",
      "source": [
        "#####2. Methods of list"
      ],
      "metadata": {
        "id": "FdMXTcqYU22w"
      }
    },
    {
      "cell_type": "code",
      "source": [
        "num=[11, 12, 10, 15, 14]\n",
        "print(num)\n",
        "print(len(num))\n",
        "num.append('16')\n",
        "print(num)\n",
        "num.insert(2,12)\n",
        "print(num)\n",
        "num1=[1, 2, 3]\n",
        "num.extend(num1)\n",
        "print(num)\n",
        "num.remove(11)\n",
        "print(num)\n",
        "num.pop(0)\n",
        "print(num)\n",
        "del num[6]\n",
        "print(num)\n",
        "num.reverse()\n",
        "print(num)\n",
        "num.clear()\n",
        "print(num)"
      ],
      "metadata": {
        "colab": {
          "base_uri": "https://localhost:8080/"
        },
        "id": "3AH-zDvAQIIK",
        "outputId": "f09725b7-e69b-4cae-a0bd-8015657abee2"
      },
      "execution_count": 2,
      "outputs": [
        {
          "output_type": "stream",
          "name": "stdout",
          "text": [
            "[11, 12, 10, 15, 14]\n",
            "5\n",
            "[11, 12, 10, 15, 14, '16']\n",
            "[11, 12, 12, 10, 15, 14, '16']\n",
            "[11, 12, 12, 10, 15, 14, '16', 1, 2, 3]\n",
            "[12, 12, 10, 15, 14, '16', 1, 2, 3]\n",
            "[12, 10, 15, 14, '16', 1, 2, 3]\n",
            "[12, 10, 15, 14, '16', 1, 3]\n",
            "[3, 1, '16', 14, 15, 10, 12]\n",
            "[]\n"
          ]
        }
      ]
    },
    {
      "cell_type": "markdown",
      "source": [
        "#####3. Methods of tuple"
      ],
      "metadata": {
        "id": "0PT5Md-0VMmT"
      }
    },
    {
      "cell_type": "code",
      "source": [
        "t=('table','key','bike','table')\n",
        "print(t)\n",
        "print(len(t))\n",
        "y=('fan',)\n",
        "t+=y\n",
        "print(t)\n",
        "x=t.count('chair')\n",
        "print(x)\n",
        "z=t.index('key')\n",
        "print(z)"
      ],
      "metadata": {
        "colab": {
          "base_uri": "https://localhost:8080/"
        },
        "id": "ZqINygJzRAsA",
        "outputId": "f97dfe33-ead7-42d5-f011-15546d42d9e5"
      },
      "execution_count": 3,
      "outputs": [
        {
          "output_type": "stream",
          "name": "stdout",
          "text": [
            "('table', 'key', 'bike', 'table')\n",
            "4\n",
            "('table', 'key', 'bike', 'table', 'fan')\n",
            "0\n",
            "1\n"
          ]
        }
      ]
    },
    {
      "cell_type": "markdown",
      "source": [
        "#####4. Methods of dictionary"
      ],
      "metadata": {
        "id": "FrJI90O-VT5j"
      }
    },
    {
      "cell_type": "code",
      "source": [
        "d={\"name\":\"grad\",\"id\":\"stellar\",\"no\":20010}\n",
        "print(d)\n",
        "d.update({'year':2000})\n",
        "print(d)\n",
        "x=d.get(\"name\")\n",
        "print(x)\n",
        "y=d.items()\n",
        "print(y)\n",
        "z=d.values()\n",
        "print(z)\n",
        "d.pop(\"id\")\n",
        "print(d)\n",
        "d.popitem()\n",
        "print(d)\n",
        "d.clear()\n",
        "print(d)"
      ],
      "metadata": {
        "colab": {
          "base_uri": "https://localhost:8080/"
        },
        "id": "tJb7JopKRaA8",
        "outputId": "d574bb4d-274c-47e7-8b98-166f87e51ea6"
      },
      "execution_count": 5,
      "outputs": [
        {
          "output_type": "stream",
          "name": "stdout",
          "text": [
            "{'name': 'grad', 'id': 'stellar', 'no': 20010}\n",
            "{'name': 'grad', 'id': 'stellar', 'no': 20010, 'year': 2000}\n",
            "grad\n",
            "dict_items([('name', 'grad'), ('id', 'stellar'), ('no', 20010), ('year', 2000)])\n",
            "dict_values(['grad', 'stellar', 20010, 2000])\n",
            "{'name': 'grad', 'no': 20010, 'year': 2000}\n",
            "{'name': 'grad', 'no': 20010}\n",
            "{}\n"
          ]
        }
      ]
    },
    {
      "cell_type": "markdown",
      "source": [
        "#####5. Methods of sets"
      ],
      "metadata": {
        "id": "CNGaqj7FVYPY"
      }
    },
    {
      "cell_type": "code",
      "source": [
        "s1={10,9,8,7,6,5}\n",
        "s2={6,5,4,3,2,1}\n",
        "s1|s2\n",
        "print(s1.union(s2))\n",
        "s1&s2\n",
        "print(s1.intersection(s2))\n",
        "print(s1.difference(s2))\n",
        "s1^s2\n",
        "print(s1.issubset(s2))\n",
        "s1.add(9)\n",
        "print(s1)\n",
        "s3=s1.copy()\n",
        "print(s3)\n",
        "s2.pop()\n",
        "print(s2)\n",
        "s2.remove(6)\n",
        "print(s2)\n",
        "s4={19,18,17}\n",
        "s1.update(s4)\n",
        "print(s1)\n",
        "s1.discard(6)\n",
        "print(s1)\n",
        "s1.clear()\n",
        "print(s1)"
      ],
      "metadata": {
        "colab": {
          "base_uri": "https://localhost:8080/"
        },
        "id": "gCGr54wgRsSD",
        "outputId": "80bfdfec-6c1e-4532-833a-1ab6e51845d4"
      },
      "execution_count": 6,
      "outputs": [
        {
          "output_type": "stream",
          "name": "stdout",
          "text": [
            "{1, 2, 3, 4, 5, 6, 7, 8, 9, 10}\n",
            "{5, 6}\n",
            "{8, 9, 10, 7}\n",
            "False\n",
            "{5, 6, 7, 8, 9, 10}\n",
            "{5, 6, 7, 8, 9, 10}\n",
            "{2, 3, 4, 5, 6}\n",
            "{2, 3, 4, 5}\n",
            "{5, 6, 7, 8, 9, 10, 17, 18, 19}\n",
            "{5, 7, 8, 9, 10, 17, 18, 19}\n",
            "set()\n"
          ]
        }
      ]
    },
    {
      "cell_type": "markdown",
      "source": [
        "#####6. Decimal to Binary, Octal and Hexadecimal conversion with direct method."
      ],
      "metadata": {
        "id": "X4D5wF4fVdWs"
      }
    },
    {
      "cell_type": "code",
      "source": [
        "n = int(input(\"Enter an integer: \"))\n",
        "print(\"The decimal value of\", n, \"is:\\n\", bin(n), \"in binary\\n\", oct(n), \"in octal\\n\", hex(n), \"in hexadecimal.\")"
      ],
      "metadata": {
        "colab": {
          "base_uri": "https://localhost:8080/"
        },
        "id": "wzlKwmM0R7uC",
        "outputId": "c176a415-5d91-4c92-c8ac-1ac3ccbbb0c6"
      },
      "execution_count": 7,
      "outputs": [
        {
          "output_type": "stream",
          "name": "stdout",
          "text": [
            "Enter an integer: 2\n",
            "The decimal value of 2 is:\n",
            " 0b10 in binary\n",
            " 0o2 in octal\n",
            " 0x2 in hexadecimal.\n"
          ]
        }
      ]
    },
    {
      "cell_type": "markdown",
      "source": [
        "#####7. Arthmetic operators"
      ],
      "metadata": {
        "id": "wTSxvCAtVpCO"
      }
    },
    {
      "cell_type": "code",
      "source": [
        "a=int(input(\"Enter first integer:\"))\n",
        "b=int(input(\"Enter second integer:\"))\n",
        "print(\"sum of \",a,\"and\",b,\"is\",(a+b))\n",
        "print(\"subtraction of\",a,\"and\",b,\"is\",(a-b))\n",
        "print(\"multiplication of\",a,\"and\",b,\"is\",(a*b))\n",
        "print(\"division of\",a,\"and\",b,\"is\",(a/b))\n",
        "print(\"modulus of\",a,\"and\",b,\"is\",(a%b))\n",
        "print(\"floor division of\",a,\"and\",b,\"is\",(a//b))\n",
        "print(\"power of\",a,\"and\",b,\"is\",(a**b))"
      ],
      "metadata": {
        "colab": {
          "base_uri": "https://localhost:8080/"
        },
        "id": "M8WC0SldSfQt",
        "outputId": "1de01055-efc4-4ef4-d28d-a7fcabe2b31d"
      },
      "execution_count": 8,
      "outputs": [
        {
          "output_type": "stream",
          "name": "stdout",
          "text": [
            "Enter first integer:2\n",
            "Enter second integer:4\n",
            "sum of  2 and 4 is 6\n",
            "subtraction of 2 and 4 is -2\n",
            "multiplication of 2 and 4 is 8\n",
            "division of 2 and 4 is 0.5\n",
            "modulus of 2 and 4 is 2\n",
            "floor division of 2 and 4 is 0\n",
            "power of 2 and 4 is 16\n"
          ]
        }
      ]
    },
    {
      "cell_type": "markdown",
      "source": [
        "#####8. Assignment operators"
      ],
      "metadata": {
        "id": "MRlyT-OrVwUk"
      }
    },
    {
      "cell_type": "code",
      "source": [
        "a=int(input(\"Enter first integer:\"))\n",
        "b=int(input(\"Enter second integer:\"))\n",
        "a+=b\n",
        "print(a)\n",
        "a-=b\n",
        "print(a)\n",
        "a*=b\n",
        "print(a)\n",
        "a/=b\n",
        "print(a)\n",
        "a**=b\n",
        "print(a)\n",
        "a//=b\n",
        "print(a)\n",
        "a%=b\n",
        "print(a)"
      ],
      "metadata": {
        "colab": {
          "base_uri": "https://localhost:8080/"
        },
        "id": "vDXBF5R_SonH",
        "outputId": "13411468-b063-492d-c600-7be56213aa7b"
      },
      "execution_count": 9,
      "outputs": [
        {
          "output_type": "stream",
          "name": "stdout",
          "text": [
            "Enter first integer:3\n",
            "Enter second integer:6\n",
            "9\n",
            "3\n",
            "18\n",
            "3.0\n",
            "729.0\n",
            "121.0\n",
            "1.0\n"
          ]
        }
      ]
    },
    {
      "cell_type": "markdown",
      "source": [
        "#####9. Comparision operators"
      ],
      "metadata": {
        "id": "IuCJEJqoVzy5"
      }
    },
    {
      "cell_type": "code",
      "source": [
        "a=int(input(\"Enter first integer:\"))\n",
        "b=int(input(\"Enter second integer:\"))\n",
        "print((a<b))\n",
        "print((a<=b))\n",
        "print((a>b))\n",
        "print((a>=b))\n",
        "print((a==b))\n",
        "print((a!=b))"
      ],
      "metadata": {
        "colab": {
          "base_uri": "https://localhost:8080/"
        },
        "id": "EiWKd1t7SzbN",
        "outputId": "336f3cf2-0059-4094-a6d3-1998cf3dad93"
      },
      "execution_count": 10,
      "outputs": [
        {
          "output_type": "stream",
          "name": "stdout",
          "text": [
            "Enter first integer:4\n",
            "Enter second integer:7\n",
            "True\n",
            "True\n",
            "False\n",
            "False\n",
            "False\n",
            "True\n"
          ]
        }
      ]
    },
    {
      "cell_type": "markdown",
      "source": [
        "#####10. Logical operators"
      ],
      "metadata": {
        "id": "EP0Hze9kV30R"
      }
    },
    {
      "cell_type": "code",
      "source": [
        "a=int(input(\"Enter first integer:\"))\n",
        "a=int(input(\"Enter second integer:\"))\n",
        "print((a>b)and(a<b))\n",
        "print((a<b)or(a>b))\n",
        "print(not(a!=b))"
      ],
      "metadata": {
        "colab": {
          "base_uri": "https://localhost:8080/"
        },
        "id": "IIAz4VtxS7C9",
        "outputId": "e2a353c4-966c-4c5a-c6e5-49f17e9f3d73"
      },
      "execution_count": 11,
      "outputs": [
        {
          "output_type": "stream",
          "name": "stdout",
          "text": [
            "Enter first integer:9\n",
            "Enter second integer:3\n",
            "False\n",
            "True\n",
            "False\n"
          ]
        }
      ]
    },
    {
      "cell_type": "markdown",
      "source": [
        "#####11. Bitwise operators"
      ],
      "metadata": {
        "id": "IEIm8YHVV7sg"
      }
    },
    {
      "cell_type": "code",
      "source": [
        "a=int(input(\"Enter first integer:\"))\n",
        "b=int(input(\"Enter second integer:\"))\n",
        "print(a&b)\n",
        "print(a/b)\n",
        "print(a^b)\n",
        "print(a<<4)\n",
        "print(a>>1)\n",
        "print(b<<2)"
      ],
      "metadata": {
        "colab": {
          "base_uri": "https://localhost:8080/"
        },
        "id": "1BGGYOssTRka",
        "outputId": "732c1400-d9c9-4e00-993b-0027c05d77f7"
      },
      "execution_count": 12,
      "outputs": [
        {
          "output_type": "stream",
          "name": "stdout",
          "text": [
            "Enter first integer:7\n",
            "Enter second integer:1\n",
            "1\n",
            "7.0\n",
            "6\n",
            "112\n",
            "3\n",
            "4\n"
          ]
        }
      ]
    },
    {
      "cell_type": "markdown",
      "source": [
        "#####12. Membership operators"
      ],
      "metadata": {
        "id": "syUwEergWAu0"
      }
    },
    {
      "cell_type": "code",
      "source": [
        "x=\"pranathi\"\n",
        "print('a' in x)\n",
        "print('s' not in x)"
      ],
      "metadata": {
        "colab": {
          "base_uri": "https://localhost:8080/"
        },
        "id": "hs6TvtV_UMUl",
        "outputId": "ac7a117b-f0a1-4da5-ad92-8bfb3fece55c"
      },
      "execution_count": 13,
      "outputs": [
        {
          "output_type": "stream",
          "name": "stdout",
          "text": [
            "True\n",
            "True\n"
          ]
        }
      ]
    },
    {
      "cell_type": "markdown",
      "source": [
        "#####13. Indexing operators"
      ],
      "metadata": {
        "id": "OVK30ykEWFIx"
      }
    },
    {
      "cell_type": "code",
      "source": [
        "a=20\n",
        "b=30\n",
        "c=20\n",
        "print(a is c)\n",
        "print(a is not b)"
      ],
      "metadata": {
        "colab": {
          "base_uri": "https://localhost:8080/"
        },
        "id": "VAtaM0_pUBsR",
        "outputId": "e8e3afc1-6249-4976-d366-8902a7f1b38c"
      },
      "execution_count": 14,
      "outputs": [
        {
          "output_type": "stream",
          "name": "stdout",
          "text": [
            "True\n",
            "True\n"
          ]
        }
      ]
    },
    {
      "cell_type": "markdown",
      "source": [
        "#####14. List slicing indexing"
      ],
      "metadata": {
        "id": "REAC1PTxWJ2F"
      }
    },
    {
      "cell_type": "code",
      "source": [
        "l=[9,8,7,6,5,4,3,2,1]\n",
        "print(l[-7::1])\n",
        "print(l[1:4])\n",
        "print(l[1:2:8])\n",
        "print(l[::2])\n",
        "print(l[::])"
      ],
      "metadata": {
        "colab": {
          "base_uri": "https://localhost:8080/"
        },
        "id": "iRZ0cuNeT8ey",
        "outputId": "f04d504c-45e5-4d9b-dd9f-f768f5eb5436"
      },
      "execution_count": 15,
      "outputs": [
        {
          "output_type": "stream",
          "name": "stdout",
          "text": [
            "[7, 6, 5, 4, 3, 2, 1]\n",
            "[8, 7, 6]\n",
            "[8]\n",
            "[9, 7, 5, 3, 1]\n",
            "[9, 8, 7, 6, 5, 4, 3, 2, 1]\n"
          ]
        }
      ]
    },
    {
      "cell_type": "markdown",
      "source": [
        "#####15. Predict the output for the given code snippet and justify the result.\n",
        "\n"
      ],
      "metadata": {
        "id": "O6AWCXUrWTpL"
      }
    },
    {
      "cell_type": "code",
      "source": [
        "print('A series of characters designated as one object known as a string'[::-1][4::3])\n",
        "print(\"-----------\")\n",
        "print('Welcome to python traing class'[3:9][::-1])"
      ],
      "metadata": {
        "colab": {
          "base_uri": "https://localhost:8080/"
        },
        "id": "88Geg4wlb8xM",
        "outputId": "b64dff82-1032-4671-ed5e-3a6e31723287"
      },
      "execution_count": 18,
      "outputs": [
        {
          "output_type": "stream",
          "name": "stdout",
          "text": [
            "taawkcbe  tgestrcoeeA\n",
            "-----------\n",
            "t emoc\n"
          ]
        }
      ]
    },
    {
      "cell_type": "markdown",
      "source": [
        "#####16."
      ],
      "metadata": {
        "id": "pq2vXza1WZJZ"
      }
    },
    {
      "cell_type": "code",
      "source": [
        "inp=input(\"Enter a string:\")\n",
        "print(inp[::-1].upper())"
      ],
      "metadata": {
        "colab": {
          "base_uri": "https://localhost:8080/"
        },
        "id": "KVMwvHoea1J9",
        "outputId": "23924236-a18a-4ec1-c2c0-c34a63d3aa96"
      },
      "execution_count": 21,
      "outputs": [
        {
          "output_type": "stream",
          "name": "stdout",
          "text": [
            "Enter a string:enter a string\n",
            "GNIRTS A RETNE\n"
          ]
        }
      ]
    },
    {
      "cell_type": "markdown",
      "source": [
        "#####17. You are required to generate a word similar to ZOO, X and Y that denote the number of Zs and Os respectively. The generated word similar to ZOO where Y= 2 * X. \n",
        "######Input X= 2 Output ZZOOOO \n",
        "######Input X= 5 Output ZZZZZOOOOOOOOOO"
      ],
      "metadata": {
        "id": "m9RG6-rqWlH0"
      }
    },
    {
      "cell_type": "code",
      "source": [
        "x=int(input('Enter X:'))\n",
        "print(x*'Z'+ 2*x*'O')"
      ],
      "metadata": {
        "id": "LegQFdc03ali",
        "colab": {
          "base_uri": "https://localhost:8080/"
        },
        "outputId": "7d956f51-c937-4af8-f279-84c2f40d9e8a"
      },
      "execution_count": null,
      "outputs": [
        {
          "output_type": "stream",
          "name": "stdout",
          "text": [
            "Enter X:3\n",
            "ZZZOOOOOO\n"
          ]
        }
      ]
    }
  ]
}